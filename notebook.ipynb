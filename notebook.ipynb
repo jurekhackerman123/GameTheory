{
 "cells": [
  {
   "cell_type": "code",
   "execution_count": 10,
   "id": "a6611979",
   "metadata": {},
   "outputs": [],
   "source": [
    "from TwoPlayerClass import * \n",
    "import random\n",
    "\n",
    "\n"
   ]
  },
  {
   "cell_type": "code",
   "execution_count": 11,
   "id": "6b66287b",
   "metadata": {},
   "outputs": [],
   "source": [
    "def ShowHeatMap(taxFunction, impactList, efficiencyList):\n",
    "\n",
    "    game = tp_game(efficiencyList, impactList, 30, taxFunction)\n",
    "\n",
    "    game.ShowHeatMap()\n",
    "\n",
    "\n",
    "\n",
    "\n",
    "def no_tax(action,eff,imps):\n",
    "    return 0\n",
    "\n",
    "\n",
    "\n",
    "\n",
    "# vary functions: \n",
    "game = tp_game([1,1],[1,0.5],20,no_tax)\n",
    "game.ShowHeatMap()\n"
   ]
  },
  {
   "cell_type": "code",
   "execution_count": 12,
   "id": "6a17cef1",
   "metadata": {},
   "outputs": [],
   "source": [
    "def simple(action, eff, imp): \n",
    "\n",
    "    return -0.1 * action * eff / imp\n",
    "\n",
    "game = tp_game([1,1],[1,0.5],20,simple)\n",
    "game.ShowHeatMap()"
   ]
  },
  {
   "cell_type": "code",
   "execution_count": 13,
   "id": "1ffeb9a3",
   "metadata": {},
   "outputs": [],
   "source": [
    "def simple2(action, eff, imp): \n",
    "    '''\n",
    "    for 0.18*... we get two NE!!\n",
    "    '''\n",
    "    return -0.2 * action * eff / imp\n",
    "\n",
    "game = tp_game([1,1],[1,0.5],20,simple2)\n",
    "game.ShowHeatMap()"
   ]
  },
  {
   "cell_type": "code",
   "execution_count": 14,
   "id": "3228753c",
   "metadata": {},
   "outputs": [],
   "source": [
    "\n",
    "# def cutOff(action, eff, imp):\n",
    "\n",
    "#     return -10*np.heaviside(action - 0.5 * eff / (imp), 1)\n",
    "\n",
    "# # same eff and imp\n",
    "# game1 = tp_game([1,1],[1,0.7],30,cutOff)\n",
    "# game1.ShowHeatMap()\n",
    "\n",
    "# # diff efficiency\n",
    "# game2 = tp_game([1,0.5],[1,1],30,cutOff)\n",
    "# game2.ShowHeatMap()\n",
    "\n",
    "# # diff impact \n",
    "# game3 = tp_game([1,1],[1,0.5],30,cutOff)\n",
    "# game3.ShowHeatMap()"
   ]
  },
  {
   "cell_type": "code",
   "execution_count": 15,
   "id": "c4e8fc2a",
   "metadata": {},
   "outputs": [],
   "source": [
    "def sinus(action, eff, imp): \n",
    "\n",
    "    return -np.sin(10*action * eff / imp)\n",
    "\n",
    "game3 = tp_game([1,1],[1,1],30,sinus)\n",
    "game3.ShowHeatMap()"
   ]
  },
  {
   "cell_type": "code",
   "execution_count": 16,
   "id": "e82c87ac",
   "metadata": {},
   "outputs": [],
   "source": [
    "def quadratic(action, eff, imp): \n",
    "    '''\n",
    "    interesting, for 0.5 * ..., we have two pareto optima \n",
    "    '''\n",
    "    return -(0.5 * action * imp / eff)**2\n",
    "\n",
    "game3 = tp_game([1,1],[1,1],30,quadratic)\n",
    "game3.ShowHeatMap()"
   ]
  },
  {
   "cell_type": "code",
   "execution_count": 17,
   "id": "35f85993",
   "metadata": {},
   "outputs": [],
   "source": [
    "def ExpFct(action, eff, imp):\n",
    "    '''\n",
    "    for different impact, well visible! \n",
    "    '''\n",
    "    return -0.05 * np.exp(action * eff / imp)\n",
    "\n",
    "game3 = tp_game([1,1],[1,1],30,ExpFct)\n",
    "game3.ShowHeatMap()"
   ]
  }
 ],
 "metadata": {
  "kernelspec": {
   "display_name": "Python 3.9.6 64-bit",
   "language": "python",
   "name": "python3"
  },
  "language_info": {
   "codemirror_mode": {
    "name": "ipython",
    "version": 3
   },
   "file_extension": ".py",
   "mimetype": "text/x-python",
   "name": "python",
   "nbconvert_exporter": "python",
   "pygments_lexer": "ipython3",
   "version": "3.9.6"
  },
  "vscode": {
   "interpreter": {
    "hash": "31f2aee4e71d21fbe5cf8b01ff0e069b9275f58929596ceb00d14d90e3e16cd6"
   }
  }
 },
 "nbformat": 4,
 "nbformat_minor": 5
}
