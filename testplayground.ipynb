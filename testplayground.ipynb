{
 "cells": [
  {
   "cell_type": "code",
   "execution_count": 121,
   "id": "1176322c",
   "metadata": {},
   "outputs": [],
   "source": [
    "import numpy as np\n",
    "import nashpy as nash"
   ]
  },
  {
   "cell_type": "code",
   "execution_count": 122,
   "id": "4bde40e8",
   "metadata": {},
   "outputs": [],
   "source": [
    "class tp_game: #two player game\n",
    "    \n",
    "    def __init__(self,efficiency_list, impact_list, grating, tax):\n",
    "        self.effs = np.array(efficiency_list)\n",
    "        self.imps = np.array(impact_list)\n",
    "        self.tax = tax #must be a function tax(action,efficiency,impact)\n",
    "        self.action_space = np.linspace(0,1,grating,endpoint = True)    \n",
    "        self.full_action_space = np.moveaxis(np.swapaxes(np.array(np.meshgrid(self.action_space,self.action_space)),1,2),0,-1)\n",
    "            #full_action_space[:,i,j,k,...] gives an action profile where player 1 takes ith action, player 2 the jth action, player 3 the kth action etc.\n",
    "        \n",
    "    def uti_matrix_2(self): #same output as uti_matrix but scalabe\n",
    "        new_matrix = np.empty_like(self.full_action_space)\n",
    "               \n",
    "        ais = range(np.shape(self.full_action_space)[0]) #action indices\n",
    "        index_space = np.moveaxis(np.array(np.meshgrid(ais,ais)),0,-1)\n",
    "        \n",
    "        for i in index_space:\n",
    "            for j in i:\n",
    "                new_matrix[j[0],j[1]] = np.array([self.uti_all(np.array([self.action_space[k] for k in j]))])\n",
    "        return new_matrix\n",
    "            \n",
    "    \n",
    "    def uti_all(self,action_profile): #array of utility for all players at given action profile \n",
    "        return np.array([self.uti_single(i,action_profile) for i in range(2)])\n",
    "            \n",
    "    def uti_single(self,i,action_profile): #utility for player i at given action profile\n",
    "        impact_profile = self.imps * action_profile\n",
    "        return self.effs[i]*action_profile[i]/(1+sum(impact_profile)**2) + self.tax(action_profile[i],self.effs[i],self.imps[i])\n",
    "    \n",
    "        \n",
    "    def uti_matrix(self):\n",
    "        temp = []\n",
    "        for i in self.action_space:\n",
    "            temp2 = []\n",
    "            for j in self.action_space:\n",
    "                temp2.append(self.uti_all(np.array([i,j])))\n",
    "            temp.append(temp2)\n",
    "        return np.array(temp)\n",
    "    \n",
    "    def create_Nash_game(self):\n",
    "        um = self.uti_matrix()\n",
    "        return nash.Game(um[:,:,0],um[:,:,1])\n",
    "            \n",
    "        "
   ]
  },
  {
   "cell_type": "code",
   "execution_count": 87,
   "id": "caff274c",
   "metadata": {},
   "outputs": [],
   "source": [
    "class game(): #n-player game\n",
    "    def __init__(self, efficiency_list, impact_list, grating, tax):\n",
    "        self.effs = np.array(efficiency_list)\n",
    "        self.imps = np.array(impact_list)\n",
    "        self.n = len(self.effs) #number of players\n",
    "        self.tax = tax #must be a function tax(action,efficiency,impact)\n",
    "        self.action_space = np.linspace(0,1,grating,endpoint = True)    \n",
    "        self.full_action_space = np.moveaxis(np.swapaxes(np.array(np.meshgrid(self.action_space,self.action_space)),1,2),0,-1)\n",
    "            #full_action_space[:,i,j,k,...] gives an action profile where player 1 takes ith action, player 2 the jth action, player 3 the kth action etc.\n",
    "     \n",
    "\n",
    "    def payoffs():\n",
    "        return 0\n",
    "    \n",
    "    \n",
    "    def utis(action_profile):\n",
    "        return [uti(i,action_profile) for i in len(n)]\n",
    "            \n",
    "    def uti(i,action_profile):\n",
    "        return action_profile[i]/(1+sum(action_profile)**2)\n",
    "            \n",
    "        "
   ]
  },
  {
   "cell_type": "code",
   "execution_count": 123,
   "id": "8f449c6f",
   "metadata": {},
   "outputs": [],
   "source": [
    "#Test tax functions:\n",
    "\n",
    "def no_tax(action,eff,imps):\n",
    "    return 0\n",
    "\n",
    "def cutoff(action,eff,imps):\n",
    "    return -10*np.heaviside(action - 0.7,1)\n",
    "\n",
    "game1 = tp_game([1,1],[1,1],5,no_tax)\n",
    "game2 = tp_game([1,1],[1,1],5,cutoff)\n",
    "\n",
    "ng1 = game1.create_Nash_game()\n",
    "ng2 = game2.create_Nash_game()\n",
    "\n",
    "#list(ng1.support_enumeration())\n",
    "#list(ng2.support_enumeration())"
   ]
  },
  {
   "cell_type": "code",
   "execution_count": 124,
   "id": "b53f7629",
   "metadata": {},
   "outputs": [
    {
     "name": "stdout",
     "output_type": "stream",
     "text": [
      "[1. 3. 4. 1. 5. 9.]\n",
      "[3. 1. 4. 1. 5. 9.]\n",
      "[3. 1. 4. 1. 7. 9.]\n"
     ]
    }
   ],
   "source": [
    "#why swapaxes is needed:\n",
    "\n",
    "p1 = np.linspace(0,10,11,True)\n",
    "\n",
    "a = np.array(np.meshgrid(p1,p1,p1,p1,p1,p1))\n",
    "b = np.swapaxes(a,1,2)\n",
    "\n",
    "print(a[:,3,1,4,1,5,9])\n",
    "print(b[:,3,1,4,1,5,9])\n",
    "\n",
    "#effect of moveaxis:\n",
    "\n",
    "b = np.moveaxis(b,0,-1)\n",
    "print(b[3,1,4,1,7,9])"
   ]
  },
  {
   "cell_type": "code",
   "execution_count": 125,
   "id": "eed93b0b",
   "metadata": {},
   "outputs": [
    {
     "name": "stdout",
     "output_type": "stream",
     "text": [
      "[[[0. 0.]\n",
      "  [0. 0.]\n",
      "  [0. 0.]\n",
      "  [0. 0.]\n",
      "  [0. 0.]]\n",
      "\n",
      " [[0. 0.]\n",
      "  [0. 0.]\n",
      "  [0. 0.]\n",
      "  [0. 0.]\n",
      "  [0. 0.]]\n",
      "\n",
      " [[0. 0.]\n",
      "  [0. 0.]\n",
      "  [0. 0.]\n",
      "  [0. 0.]\n",
      "  [0. 0.]]\n",
      "\n",
      " [[0. 0.]\n",
      "  [0. 0.]\n",
      "  [0. 0.]\n",
      "  [0. 0.]\n",
      "  [0. 0.]]\n",
      "\n",
      " [[0. 0.]\n",
      "  [0. 0.]\n",
      "  [0. 0.]\n",
      "  [0. 0.]\n",
      "  [0. 0.]]]\n"
     ]
    }
   ],
   "source": [
    "#testing uti_matrix_2\n",
    "\n",
    "def no_tax(action,eff,imps):\n",
    "    return 0\n",
    "\n",
    "game1 = tp_game([1,1],[1,1],5,no_tax)\n",
    "\n",
    "print(game1.uti_matrix_2()-game1.uti_matrix())"
   ]
  },
  {
   "cell_type": "code",
   "execution_count": null,
   "id": "2cb472e1",
   "metadata": {},
   "outputs": [],
   "source": []
  }
 ],
 "metadata": {
  "kernelspec": {
   "display_name": "Python 3 (ipykernel)",
   "language": "python",
   "name": "python3"
  },
  "language_info": {
   "codemirror_mode": {
    "name": "ipython",
    "version": 3
   },
   "file_extension": ".py",
   "mimetype": "text/x-python",
   "name": "python",
   "nbconvert_exporter": "python",
   "pygments_lexer": "ipython3",
   "version": "3.11.5"
  }
 },
 "nbformat": 4,
 "nbformat_minor": 5
}
